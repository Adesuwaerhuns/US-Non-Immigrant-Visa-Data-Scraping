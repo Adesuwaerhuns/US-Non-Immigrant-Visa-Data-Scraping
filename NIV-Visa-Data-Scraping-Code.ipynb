{
 "cells": [
  {
   "cell_type": "code",
   "execution_count": 1,
   "metadata": {},
   "outputs": [],
   "source": [
    "#import relevant libraries\n",
    "from selenium.webdriver.support import expected_conditions as EC\n",
    "from selenium.common.exceptions import TimeoutException\n",
    "from selenium.webdriver.support.ui import WebDriverWait\n",
    "from selenium.webdriver.chrome.service import Service\n",
    "from selenium.webdriver.chrome.options import Options\n",
    "from selenium.webdriver.common.keys import Keys\n",
    "from selenium.webdriver.common.by import By\n",
    "import selenium.webdriver as webdriver\n",
    "from selenium import webdriver\n",
    "from bs4 import BeautifulSoup \n",
    "from pyparsing import line\n",
    "import urllib.request\n",
    "import pandas as pd\n",
    "import tabula\n",
    "import time\n",
    "import csv\n",
    "\n",
    "\n",
    "# intialize chrome service-Note this is unique because it is based on the location of my chrome drivers\n",
    "user_agent = \"Mozilla/5.0 (Windows NT 10.0; Win64; x64) AppleWebKit/537.36 (KHTML, like Gecko) Chrome/103.0.0.0 Safari/537.36\"\n",
    "driver_path = r\"C:\\chromedriver.exe\"\n",
    "chrome_service = Service(driver_path)\n",
    "chrome_options = Options()\n",
    "chrome_options.add_argument(f'user-agent={user_agent}')\n",
    "browser = webdriver.Chrome(service=chrome_service, options=chrome_options)\n",
    "\n"
   ]
  },
  {
   "cell_type": "code",
   "execution_count": 2,
   "metadata": {},
   "outputs": [],
   "source": [
    "# navigate to the website\n",
    "browser.get('https://travel.state.gov/content/travel/en/legal/visa-law0/visa-statistics/nonimmigrant-visa-statistics/monthly-nonimmigrant-visa-issuances.html')\n",
    "time.sleep(3)\n"
   ]
  },
  {
   "cell_type": "code",
   "execution_count": 3,
   "metadata": {},
   "outputs": [],
   "source": [
    "#function to extract profile url link from the different profile displayed\n",
    "def GetURL():\n",
    "    all_profile_URL=[]\n",
    "    pagesource = BeautifulSoup(browser.page_source)\n",
    "    profiles = pagesource.find_all('a', class_ = 'pdf_link')\n",
    "    for profile in profiles:\n",
    "        profile_URL = profile.get('href')\n",
    "        if 'Nationality%20and%20Visa' in profile_URL and  profile_URL not in all_profile_URL:\n",
    "            all_profile_URL.append(\"https://travel.state.gov\"+profile_URL)\n",
    "    return all_profile_URL\n",
    "    \n",
    "#function to help download pdf from the url\n",
    "def download_file(download_url, filename):\n",
    "    response = urllib.request.urlopen(download_url)    \n",
    "    file = open(filename + \".pdf\", 'wb')\n",
    "    file.write(response.read())\n",
    "    file.close()\n",
    " \n",
    "\n"
   ]
  },
  {
   "cell_type": "code",
   "execution_count": 4,
   "metadata": {},
   "outputs": [],
   "source": [
    "#get the URL to the PDF from the website in a list\n",
    "all_pdf_URL = GetURL()"
   ]
  },
  {
   "cell_type": "code",
   "execution_count": 5,
   "metadata": {},
   "outputs": [],
   "source": [
    "#loop through the list to download the pdf file and name it accordingly\n",
    "for pdf_URL in all_pdf_URL:\n",
    "    download_file(pdf_URL, pdf_URL[99:-66])    "
   ]
  }
 ],
 "metadata": {
  "kernelspec": {
   "display_name": "Python 3.9.12 ('base')",
   "language": "python",
   "name": "python3"
  },
  "language_info": {
   "codemirror_mode": {
    "name": "ipython",
    "version": 3
   },
   "file_extension": ".py",
   "mimetype": "text/x-python",
   "name": "python",
   "nbconvert_exporter": "python",
   "pygments_lexer": "ipython3",
   "version": "3.9.12"
  },
  "orig_nbformat": 4,
  "vscode": {
   "interpreter": {
    "hash": "3c4af27564e8e4e69140fe91917a9025929ff2059b980474eafd97c8af206d8f"
   }
  }
 },
 "nbformat": 4,
 "nbformat_minor": 2
}
